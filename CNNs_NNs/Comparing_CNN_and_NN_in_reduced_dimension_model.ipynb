{
 "cells": [
  {
   "cell_type": "markdown",
   "metadata": {},
   "source": [
    "<h1><center>Introduction: about  the problem,  multiclass classification, and Convolutional Neural Networks\n",
    "</center></h1>\n",
    "\n",
    "In this notebook we are going to use [https://keras.io/](Keras), a Python library for Convolution Neural Networks (CNNs, in short), Recursive Neural Networks RNNs, among other spatial-temporal models. \n",
    "\n",
    "The problem is the following:\n",
    "\n",
    ">__`Problem statement:`__given a curve on an interval [a,b], classify it according to its number of critical points in the interval, that is: **0 whenever it has 0 critical points;      1 whenever it has 1 critical point;     or 2 if it has strictly more than 1 critical point.**\n",
    "    \n",
    "    \n",
    "    \n",
    "This is a classification problem, with three classes. Several things change in a multiclass classification when compared to binary classification, as we shall discuss next; the changes are small but important, and we will go slow in order to not overlook them.\n",
    "\n",
    "Let's begin by importing some libraries"
   ]
  },
  {
   "cell_type": "code",
   "execution_count": 1,
   "metadata": {},
   "outputs": [],
   "source": [
    "import tensorflow as tf\n",
    "from tensorflow.python.framework import ops\n",
    "import numpy as np\n",
    "import matplotlib.pyplot as plt\n",
    "tf.reset_default_graph()"
   ]
  },
  {
   "cell_type": "markdown",
   "metadata": {},
   "source": [
    "Now we generate some sample. The idea is: we give 5 points at random and plot a cubic spline that fits them. Then we find the critical points. \n",
    "\n",
    "For the interpolation part, I'm gonna use the following library"
   ]
  },
  {
   "cell_type": "code",
   "execution_count": 2,
   "metadata": {},
   "outputs": [],
   "source": [
    "from scipy.interpolate import CubicSpline"
   ]
  },
  {
   "cell_type": "markdown",
   "metadata": {},
   "source": [
    "First we define the interval $I = [0,10]$, and 5 points in it."
   ]
  },
  {
   "cell_type": "code",
   "execution_count": 3,
   "metadata": {},
   "outputs": [],
   "source": [
    "a, b = 0, 10\n",
    "N = 20\n",
    "interval = np.linspace(a,b, N)\n",
    "x_ticks = np.linspace(1,9,5)"
   ]
  },
  {
   "cell_type": "markdown",
   "metadata": {},
   "source": [
    "Now, in each one of these 5 points, we generate random numbers, that we will use to find interpolating cubic splines later on:"
   ]
  },
  {
   "cell_type": "code",
   "execution_count": 4,
   "metadata": {},
   "outputs": [],
   "source": [
    "N_pop = 2000\n",
    "X_points = 6*np.random.randn(5,N_pop)"
   ]
  },
  {
   "cell_type": "markdown",
   "metadata": {},
   "source": [
    "Ok, we are ready to find the cubic splines. For example, if you would like to find the cubic splines passing through some points, you do"
   ]
  },
  {
   "cell_type": "code",
   "execution_count": 5,
   "metadata": {},
   "outputs": [],
   "source": [
    "cs = CubicSpline(x_ticks,np.reshape(X_points[:,110],(-1,1)))"
   ]
  },
  {
   "cell_type": "markdown",
   "metadata": {},
   "source": [
    "which gives something like this"
   ]
  },
  {
   "cell_type": "code",
   "execution_count": 6,
   "metadata": {},
   "outputs": [
    {
     "data": {
      "text/plain": [
       "Text(0, 0.5, 'f(x)')"
      ]
     },
     "execution_count": 6,
     "metadata": {},
     "output_type": "execute_result"
    },
    {
     "data": {
      "image/png": "[encoded data removed]",
      "text/plain": [
       "<Figure size 1080x576 with 1 Axes>"
      ]
     },
     "metadata": {
      "needs_background": "light"
     },
     "output_type": "display_data"
    }
   ],
   "source": [
    "plt.figure(figsize=(15,8))\n",
    "plt.plot(interval, cs(interval),lw=3,color='blue')\n",
    "plt.plot(x_ticks,X_points[:,110].T,marker='H',linestyle='',color='red',markersize=18)\n",
    "plt.grid(True)\n",
    "plt.xlabel('x',size=22)\n",
    "plt.ylabel('f(x)',size=22)"
   ]
  },
  {
   "cell_type": "markdown",
   "metadata": {},
   "source": [
    "And now, if we want to find the critical points we do"
   ]
  },
  {
   "cell_type": "code",
   "execution_count": 7,
   "metadata": {},
   "outputs": [
    {
     "name": "stdout",
     "output_type": "stream",
     "text": [
      "[array([2.00443804, 4.93219054, 7.77004996])]\n"
     ]
    }
   ],
   "source": [
    "z_roots = cs.derivative().roots()\n",
    "print(z_roots)"
   ]
  },
  {
   "cell_type": "markdown",
   "metadata": {},
   "source": [
    "In fact, we would like to consider only critical points in the  interval [0,10], but this part is much easier, and I will point that out in the later code.\n",
    "\n",
    "Alright, so we are ready to go. Let's do it in mass, that is, generate many interpolation points and find associated cubic spline interpolanting curves:"
   ]
  },
  {
   "cell_type": "code",
   "execution_count": 8,
   "metadata": {},
   "outputs": [],
   "source": [
    "y = np.zeros([N_pop])\n",
    "\n",
    "X_data = np.zeros((N_pop,len(interval)))\n",
    "for k in range(N_pop):\n",
    "    cs = CubicSpline(x_ticks,X_points[:,k])\n",
    "    X_data[k,:]=cs(interval)\n",
    "    z_roots = cs.derivative().roots()\n",
    "    ## Now we count the number of critical points included in the interval a=0, b=10:\n",
    "    y[k] = int(np.sum(1*(z_roots<=b)*(z_roots>=a))) \n"
   ]
  },
  {
   "cell_type": "markdown",
   "metadata": {},
   "source": [
    "Now we do two things: \n",
    "    \n",
    "    1. We will truncate the number of roots to 3 in case of more than 3 roots;\n",
    "    2. We will apply a one hot to the prediction class"
   ]
  },
  {
   "cell_type": "code",
   "execution_count": 9,
   "metadata": {},
   "outputs": [],
   "source": [
    "y_truncated = np.clip(y,0,2)"
   ]
  },
  {
   "cell_type": "markdown",
   "metadata": {},
   "source": [
    "We shall embed it in a higher dimensional space, because Keras use the format (batch, steps, channels). for instance, if we have a $2\\times 2$ matrix, where each row is a data point with dimension $1\\times 2$, we have 2 data points, that shall be rearranged as a 3D matrix of size (2, 1,2). This is done as in the following example:"
   ]
  },
  {
   "cell_type": "code",
   "execution_count": 10,
   "metadata": {},
   "outputs": [
    {
     "name": "stdout",
     "output_type": "stream",
     "text": [
      "[[[3]\n",
      "  [2]]\n",
      "\n",
      " [[4]\n",
      "  [6]]]\n"
     ]
    }
   ],
   "source": [
    "A= np.array([[3,2],[4,6]])\n",
    "A = np.reshape(A, (np.shape(A)[0], np.shape(A)[1],1))\n",
    "print(A)"
   ]
  },
  {
   "cell_type": "code",
   "execution_count": 11,
   "metadata": {},
   "outputs": [],
   "source": [
    "X_data = np.reshape(X_data,(np.shape(X_data)[0],np.shape(X_data)[1],1))"
   ]
  },
  {
   "cell_type": "markdown",
   "metadata": {},
   "source": [
    "Now that we have data, let's split the it into a test set and train set:"
   ]
  },
  {
   "cell_type": "code",
   "execution_count": 12,
   "metadata": {},
   "outputs": [],
   "source": [
    "from sklearn.model_selection import StratifiedShuffleSplit\n",
    "\n",
    "split_sample= StratifiedShuffleSplit(n_splits=1, test_size=.3)\n",
    "\n",
    "for train_index, test_index in split_sample.split(X_data,y_truncated):\n",
    "    X_train,Y_train = X_data[train_index,:,:],y_truncated[train_index]\n",
    "    X_test,Y_test = X_data[test_index,:,:],y_truncated[test_index]\n",
    "    \n",
    "    # For later, when we rund a lower dimensional prediction model\n",
    "    X_points_train, X_points_test = X_points[:,train_index].T,X_points[:,test_index].T"
   ]
  },
  {
   "cell_type": "markdown",
   "metadata": {},
   "source": [
    "Now we generate a one hot for each label representation: this will make the (new) labels pairwise  orthogonal and equidistant:\n",
    "\n",
    ">__Remark (why to one-hot?):__ The main idea of one-hot encoding is finding a labeling system that is not ordered. For instance, then we have two classes only then all the points, that is, 0,1, are equidistant. When we have more than 2, that is not the case anymore. In order to represent k-points in an equidistant fashion, we embed them in a (k dimension) sphere, that the mathematicians represent as $S^{k-1}$. The reason for the $k-1$ index rather than $k$ is due to the manifold dimension. If you are not familiar with Differential/Riemmanian Geometry terminology, just think about the fact that, in this planet (a 3D object), we can find every point  only using 2 coordinates: longitude and latitude; the dimension 2 of the manifold is due to the number of coordinates whenever we locally representat is (as a 'chart').\n",
    "\n",
    "I will run this part with a short Tensorflow code"
   ]
  },
  {
   "cell_type": "code",
   "execution_count": 13,
   "metadata": {},
   "outputs": [],
   "source": [
    "tf.reset_default_graph()\n",
    "z = tf.placeholder(name=\"z\", shape=(None),dtype= tf.int32)\n",
    "y_one_hot = tf.one_hot(z,3)\n",
    "init = tf.global_variables_initializer()\n",
    "with tf.Session() as sess:\n",
    "    sess.run(init)\n",
    "    Y_train = sess.run(y_one_hot, feed_dict={z:Y_train})\n",
    "    Y_test = sess.run(y_one_hot, feed_dict={z:Y_test})"
   ]
  },
  {
   "cell_type": "markdown",
   "metadata": {},
   "source": [
    "The one-hot encoding could also be done using the code\n",
    "\n",
    "`Y_test = keras.utils.to_categorical(Y_test, num_classes=3)`\n"
   ]
  },
  {
   "cell_type": "markdown",
   "metadata": {},
   "source": [
    "<h2><center>Convolutional NNs: why?\n",
    "</center></h2>\n",
    "\n",
    "A natural question here is **\"why should we introduce a new model\"**? Well... in this case it is natural to approximate the derivative of $f(\\cdot)$ by a finite difference, like:\n",
    " $$f'(x) \\approx \\frac{f(x+h) - f(x-h)}{2h},$$\n",
    " \n",
    "hence, in order to understand the behavior of $x \\mapsto f'(x)$, we have to take into account the local behavior of $f(\\cdot)$ in a neighborhood of $x$; **CNNs** provide a nonlocal model that accomplish that.\n",
    " \n",
    " We are woing to find weights W of size $1\\times  3$ that will read the entry\n",
    " X  and give the appropriate outcome. For instance, the first layer will be of type\n",
    " \n",
    "\\begin{align}\n",
    "Z^1 &= W^1 \\ast X + b \\\\\n",
    " & A^1 = g(Z^1),\n",
    " \\end{align}\n",
    " where $g(\\cdot)$ is an appropriately chosen activation function.\n",
    " \n",
    " >__Remark (motivation for the model):__ the convolution structure in a CNN is essentially mimicking the layer structure in a NN.  Convolutional structure are relevant when one has an object whose structure is not perceived in a pointwise sense, but as groups of points. For instance, no one looks to pictures analysing pixel by pixel, but by looking at groups of pixels.\n",
    " \n",
    " In terms of layers, we are going to train a model like this\n",
    " \n",
    " $$ CNN \\rightarrow Relu \\rightarrow Maxpool \\rightarrow Flatten \\rightarrow Dense \\rightarrow  softmax.$$"
   ]
  },
  {
   "cell_type": "code",
   "execution_count": 14,
   "metadata": {},
   "outputs": [
    {
     "name": "stderr",
     "output_type": "stream",
     "text": [
      "Using TensorFlow backend.\n"
     ]
    }
   ],
   "source": [
    "import keras\n",
    "import graphviz\n",
    "\n",
    "from keras import layers\n",
    "\n",
    "#we add the following line of code, otherwise it complains that we are not running on the same graph\n",
    "# see \n",
    "#https://stackoverflow.com/questions/51588186/keras-tensorflow-typeerror-cannot-interpret-feed-dict-key-as-tensor\n",
    "from keras import backend as K"
   ]
  },
  {
   "cell_type": "markdown",
   "metadata": {},
   "source": [
    "Let's define the model in Keras"
   ]
  },
  {
   "cell_type": "code",
   "execution_count": 15,
   "metadata": {},
   "outputs": [],
   "source": [
    "def Predict_zeros(input_shape):\n",
    "    X_input = keras.Input(input_shape)\n",
    "    \n",
    "    ## Now we pad the data\n",
    "    X = keras.layers.ZeroPadding1D(2)(X_input)\n",
    "    X = keras.layers.Conv1D(4,(3), strides=1,activation='relu',name='conv0')(X)\n",
    "    \n",
    "    ## max pool\n",
    "    X = keras.layers.MaxPooling1D(stride=2,pool_size=2,padding='same')(X)\n",
    "    \n",
    "    ## Last layer\n",
    "    X = keras.layers.Flatten()(X)\n",
    "    X = keras.layers.Dense(3,activation='softmax',name='fc')(X)\n",
    "    \n",
    "    model = keras.models.Model(input=X_input,output = X,name ='predict_zeros')\n",
    "    return model"
   ]
  },
  {
   "cell_type": "markdown",
   "metadata": {},
   "source": [
    "Now we fit this model to the data we have:"
   ]
  },
  {
   "cell_type": "code",
   "execution_count": 16,
   "metadata": {},
   "outputs": [
    {
     "name": "stdout",
     "output_type": "stream",
     "text": [
      "WARNING:tensorflow:From /home/rafa-monteiro/.local/lib/python3.5/site-packages/tensorflow/python/ops/resource_variable_ops.py:435: colocate_with (from tensorflow.python.framework.ops) is deprecated and will be removed in a future version.\n",
      "Instructions for updating:\n",
      "Colocations handled automatically by placer.\n"
     ]
    },
    {
     "name": "stderr",
     "output_type": "stream",
     "text": [
      "/usr/local/lib/python3.5/dist-packages/ipykernel_launcher.py:9: UserWarning: Update your `MaxPooling1D` call to the Keras 2 API: `MaxPooling1D(pool_size=2, padding=\"same\", strides=2)`\n",
      "  if __name__ == '__main__':\n",
      "/usr/local/lib/python3.5/dist-packages/ipykernel_launcher.py:15: UserWarning: Update your `Model` call to the Keras 2 API: `Model(inputs=Tensor(\"in..., name=\"predict_zeros\", outputs=Tensor(\"fc...)`\n",
      "  from ipykernel import kernelapp as app\n"
     ]
    }
   ],
   "source": [
    "K.clear_session()\n",
    "Predict_zeros = Predict_zeros((len(interval),1))"
   ]
  },
  {
   "cell_type": "code",
   "execution_count": 17,
   "metadata": {},
   "outputs": [],
   "source": [
    "Predict_zeros.compile(optimizer='adam',loss='categorical_crossentropy',metrics=[\"accuracy\"])"
   ]
  },
  {
   "cell_type": "code",
   "execution_count": 18,
   "metadata": {},
   "outputs": [
    {
     "name": "stdout",
     "output_type": "stream",
     "text": [
      "WARNING:tensorflow:From /home/rafa-monteiro/.local/lib/python3.5/site-packages/tensorflow/python/ops/math_ops.py:3066: to_int32 (from tensorflow.python.ops.math_ops) is deprecated and will be removed in a future version.\n",
      "Instructions for updating:\n",
      "Use tf.cast instead.\n",
      "Epoch 1/40\n",
      "1400/1400 [==============================] - 0s 159us/step - loss: 2.9509 - accuracy: 0.4729\n",
      "Epoch 2/40\n",
      "1400/1400 [==============================] - 0s 107us/step - loss: 0.8085 - accuracy: 0.8314\n",
      "Epoch 3/40\n",
      "1400/1400 [==============================] - 0s 112us/step - loss: 0.5848 - accuracy: 0.8600\n",
      "Epoch 4/40\n",
      "1400/1400 [==============================] - 0s 121us/step - loss: 0.4565 - accuracy: 0.8850\n",
      "Epoch 5/40\n",
      "1400/1400 [==============================] - 0s 101us/step - loss: 0.3913 - accuracy: 0.8921\n",
      "Epoch 6/40\n",
      "1400/1400 [==============================] - 0s 101us/step - loss: 0.3633 - accuracy: 0.8979\n",
      "Epoch 7/40\n",
      "1400/1400 [==============================] - 0s 93us/step - loss: 0.3504 - accuracy: 0.8986\n",
      "Epoch 8/40\n",
      "1400/1400 [==============================] - 0s 109us/step - loss: 0.3404 - accuracy: 0.8986\n",
      "Epoch 9/40\n",
      "1400/1400 [==============================] - 0s 96us/step - loss: 0.3301 - accuracy: 0.8986\n",
      "Epoch 10/40\n",
      "1400/1400 [==============================] - 0s 104us/step - loss: 0.3215 - accuracy: 0.9007\n",
      "Epoch 11/40\n",
      "1400/1400 [==============================] - 0s 107us/step - loss: 0.3180 - accuracy: 0.8986\n",
      "Epoch 12/40\n",
      "1400/1400 [==============================] - 0s 105us/step - loss: 0.3121 - accuracy: 0.8986\n",
      "Epoch 13/40\n",
      "1400/1400 [==============================] - 0s 101us/step - loss: 0.3057 - accuracy: 0.9007\n",
      "Epoch 14/40\n",
      "1400/1400 [==============================] - 0s 104us/step - loss: 0.2992 - accuracy: 0.9007\n",
      "Epoch 15/40\n",
      "1400/1400 [==============================] - 0s 99us/step - loss: 0.2965 - accuracy: 0.9007\n",
      "Epoch 16/40\n",
      "1400/1400 [==============================] - 0s 99us/step - loss: 0.2915 - accuracy: 0.9007\n",
      "Epoch 17/40\n",
      "1400/1400 [==============================] - 0s 88us/step - loss: 0.2862 - accuracy: 0.9014\n",
      "Epoch 18/40\n",
      "1400/1400 [==============================] - 0s 102us/step - loss: 0.2822 - accuracy: 0.9000\n",
      "Epoch 19/40\n",
      "1400/1400 [==============================] - 0s 95us/step - loss: 0.2774 - accuracy: 0.9036\n",
      "Epoch 20/40\n",
      "1400/1400 [==============================] - 0s 111us/step - loss: 0.2737 - accuracy: 0.9021\n",
      "Epoch 21/40\n",
      "1400/1400 [==============================] - 0s 96us/step - loss: 0.2703 - accuracy: 0.9043\n",
      "Epoch 22/40\n",
      "1400/1400 [==============================] - 0s 95us/step - loss: 0.2698 - accuracy: 0.9021\n",
      "Epoch 23/40\n",
      "1400/1400 [==============================] - 0s 100us/step - loss: 0.2646 - accuracy: 0.9014\n",
      "Epoch 24/40\n",
      "1400/1400 [==============================] - 0s 101us/step - loss: 0.2629 - accuracy: 0.9021\n",
      "Epoch 25/40\n",
      "1400/1400 [==============================] - 0s 128us/step - loss: 0.2608 - accuracy: 0.9029\n",
      "Epoch 26/40\n",
      "1400/1400 [==============================] - 0s 113us/step - loss: 0.2572 - accuracy: 0.9014\n",
      "Epoch 27/40\n",
      "1400/1400 [==============================] - 0s 101us/step - loss: 0.2561 - accuracy: 0.9021\n",
      "Epoch 28/40\n",
      "1400/1400 [==============================] - 0s 90us/step - loss: 0.2535 - accuracy: 0.9014\n",
      "Epoch 29/40\n",
      "1400/1400 [==============================] - 0s 97us/step - loss: 0.2510 - accuracy: 0.9007\n",
      "Epoch 30/40\n",
      "1400/1400 [==============================] - 0s 92us/step - loss: 0.2494 - accuracy: 0.9029\n",
      "Epoch 31/40\n",
      "1400/1400 [==============================] - 0s 96us/step - loss: 0.2476 - accuracy: 0.9021\n",
      "Epoch 32/40\n",
      "1400/1400 [==============================] - 0s 92us/step - loss: 0.2467 - accuracy: 0.8986\n",
      "Epoch 33/40\n",
      "1400/1400 [==============================] - 0s 100us/step - loss: 0.2450 - accuracy: 0.9036\n",
      "Epoch 34/40\n",
      "1400/1400 [==============================] - 0s 90us/step - loss: 0.2443 - accuracy: 0.9029\n",
      "Epoch 35/40\n",
      "1400/1400 [==============================] - 0s 94us/step - loss: 0.2421 - accuracy: 0.8979\n",
      "Epoch 36/40\n",
      "1400/1400 [==============================] - 0s 112us/step - loss: 0.2409 - accuracy: 0.9029\n",
      "Epoch 37/40\n",
      "1400/1400 [==============================] - 0s 111us/step - loss: 0.2426 - accuracy: 0.8993\n",
      "Epoch 38/40\n",
      "1400/1400 [==============================] - 0s 92us/step - loss: 0.2389 - accuracy: 0.9021\n",
      "Epoch 39/40\n",
      "1400/1400 [==============================] - 0s 132us/step - loss: 0.2369 - accuracy: 0.8986\n",
      "Epoch 40/40\n",
      "1400/1400 [==============================] - 0s 113us/step - loss: 0.2359 - accuracy: 0.9014\n"
     ]
    },
    {
     "data": {
      "text/plain": [
       "<keras.callbacks.callbacks.History at 0x7ffb0a1afc88>"
      ]
     },
     "execution_count": 18,
     "metadata": {},
     "output_type": "execute_result"
    }
   ],
   "source": [
    "Predict_zeros.fit(x = X_train, y = Y_train,epochs=40, batch_size=16)"
   ]
  },
  {
   "cell_type": "markdown",
   "metadata": {
    "scrolled": false
   },
   "source": [
    " Evaluate the model on the test data using `evaluate`\n"
   ]
  },
  {
   "cell_type": "code",
   "execution_count": 19,
   "metadata": {},
   "outputs": [
    {
     "name": "stdout",
     "output_type": "stream",
     "text": [
      "600/600 [==============================] - 0s 77us/step\n",
      "test loss, test acc: [0.2711054825782776, 0.8966666460037231]\n"
     ]
    }
   ],
   "source": [
    "results = Predict_zeros.evaluate(X_test, Y_test)\n",
    "print('test loss, test acc:', results)"
   ]
  },
  {
   "cell_type": "markdown",
   "metadata": {},
   "source": [
    "Amazing! The accuracy is quite good. \n",
    "\n",
    "But now comes the question: is it possible to get a similar result just using the interpolation points? Essentially, the reduced points are enough to make the prediction."
   ]
  },
  {
   "cell_type": "markdown",
   "metadata": {},
   "source": [
    "<h1> <center>Prediction, using only interpolation points </center></h1>"
   ]
  },
  {
   "cell_type": "markdown",
   "metadata": {},
   "source": [
    "Let's define a neural network (NN) in tensorflow. It starts with 5 nodes (that is, the interpolation points we have defined), and it has as output a one-hot vector in $S^2$, that is, 3 classes.\n",
    "\n"
   ]
  },
  {
   "cell_type": "code",
   "execution_count": 20,
   "metadata": {},
   "outputs": [],
   "source": [
    "from sklearn.neural_network import MLPClassifier\n",
    "from sklearn.metrics import accuracy_score"
   ]
  },
  {
   "cell_type": "markdown",
   "metadata": {},
   "source": [
    "To make a fair comparison, in the above CNN model we should the same number of variables to be optimized on. This is not hard to find:"
   ]
  },
  {
   "cell_type": "code",
   "execution_count": 21,
   "metadata": {},
   "outputs": [
    {
     "name": "stdout",
     "output_type": "stream",
     "text": [
      "Model: \"predict_zeros\"\n",
      "_________________________________________________________________\n",
      "Layer (type)                 Output Shape              Param #   \n",
      "=================================================================\n",
      "input_1 (InputLayer)         (None, 20, 1)             0         \n",
      "_________________________________________________________________\n",
      "zero_padding1d_1 (ZeroPaddin (None, 24, 1)             0         \n",
      "_________________________________________________________________\n",
      "conv0 (Conv1D)               (None, 22, 4)             16        \n",
      "_________________________________________________________________\n",
      "max_pooling1d_1 (MaxPooling1 (None, 11, 4)             0         \n",
      "_________________________________________________________________\n",
      "flatten_1 (Flatten)          (None, 44)                0         \n",
      "_________________________________________________________________\n",
      "fc (Dense)                   (None, 3)                 135       \n",
      "=================================================================\n",
      "Total params: 151\n",
      "Trainable params: 151\n",
      "Non-trainable params: 0\n",
      "_________________________________________________________________\n",
      "None\n"
     ]
    }
   ],
   "source": [
    "print(Predict_zeros.summary())"
   ]
  },
  {
   "cell_type": "markdown",
   "metadata": {},
   "source": [
    ">__Note:__ if you try to do the counting of number of variables, don't forget that maxpooling layers don't have optimization parameters.\n",
    "\n",
    "Let's say that we would like 1 hidden layer. We would like to have more or less 151 variables to optimize on. Hence, we should have\n",
    "\n",
    "$$5\\times k + k\\times 3 \\approx 151$$\n",
    "\n",
    "which gives (wounding up to integer) k= 20 as a decent choice."
   ]
  },
  {
   "cell_type": "code",
   "execution_count": 22,
   "metadata": {},
   "outputs": [],
   "source": [
    "predict_nn = MLPClassifier(solver='lbfgs', alpha=1e-5,\n",
    "                    hidden_layer_sizes= (20,3), random_state=1)"
   ]
  },
  {
   "cell_type": "markdown",
   "metadata": {},
   "source": [
    "which has"
   ]
  },
  {
   "cell_type": "code",
   "execution_count": 23,
   "metadata": {},
   "outputs": [
    {
     "data": {
      "text/plain": [
       "(20, 3)"
      ]
     },
     "execution_count": 23,
     "metadata": {},
     "output_type": "execute_result"
    }
   ],
   "source": [
    "predict_nn.hidden_layer_sizes"
   ]
  },
  {
   "cell_type": "code",
   "execution_count": 24,
   "metadata": {},
   "outputs": [
    {
     "data": {
      "text/plain": [
       "MLPClassifier(activation='relu', alpha=1e-05, batch_size='auto', beta_1=0.9,\n",
       "       beta_2=0.999, early_stopping=False, epsilon=1e-08,\n",
       "       hidden_layer_sizes=(20, 3), learning_rate='constant',\n",
       "       learning_rate_init=0.001, max_iter=200, momentum=0.9,\n",
       "       n_iter_no_change=10, nesterovs_momentum=True, power_t=0.5,\n",
       "       random_state=1, shuffle=True, solver='lbfgs', tol=0.0001,\n",
       "       validation_fraction=0.1, verbose=False, warm_start=False)"
      ]
     },
     "execution_count": 24,
     "metadata": {},
     "output_type": "execute_result"
    }
   ],
   "source": [
    "predict_nn.fit(X_points_train,Y_train)"
   ]
  },
  {
   "cell_type": "code",
   "execution_count": 25,
   "metadata": {},
   "outputs": [
    {
     "name": "stdout",
     "output_type": "stream",
     "text": [
      "Accuracy score training set: 0.9921428571428571\n",
      "Accuracy score training set: 0.955\n"
     ]
    }
   ],
   "source": [
    "y_pred = predict_nn.predict(X_points_train)\n",
    "print(\"Accuracy score training set:\", accuracy_score(Y_train,y_pred))\n",
    "\n",
    "y_pred = predict_nn.predict(X_points_test)\n",
    "print(\"Accuracy score training set:\", accuracy_score(Y_test,y_pred))"
   ]
  },
  {
   "cell_type": "markdown",
   "metadata": {},
   "source": [
    "Great! It seems that we don't need all the information used in the CNN model: the interpolation points already provide `high quality` information about the object. From another perspective, this simple exercise entices our intuition to the following fact: it seems to show that one can  reduce the dimension of the elements in the sample space, and with the project sample (in a lower dimensional space) encode a prediction model.\n",
    "\n",
    ">__Remark:__ This is somewhat not very far from what I did in this project `The Rising Sun Envelope Method`\n",
    "https://rafael-a-monteiro-math.github.io/Rising_Sun_Envelope_Method/\n",
    "In this we reduce the dimension of each element in the sample space in order to feed it to a ML model (the prediction part is in progress, which is more straightforward: the hard part was doing the dimension reduction)."
   ]
  },
  {
   "cell_type": "markdown",
   "metadata": {},
   "source": [
    "<h2> <center>Does the choice of interpolating points matter?</center></h2>"
   ]
  },
  {
   "cell_type": "markdown",
   "metadata": {},
   "source": [
    "It is somewhat natural to ask whether or not the interpolating points, which in our case consisted of 5 points,  1, 3, 5, 7, and 9,  matter for the prediction. The answer is clearly yes, for if we had chosen among this 5 points the critical points (and allowing for repetition), we would always be able to find the right answer, with 100% accuracy.\n",
    "\n",
    "The punch line is that the quality of the dimension reduction matter a lot: in case of functions, the choice for interpolation points is not always evident, as different interpolation points give different interpolating curves/approximations. The `Rising Sun Envelope Method` is an example of that, but many others can be seen in the literature: Lasso regressions (related to sparse regressions), filters used extensively in signal processing (low-pass, high-pass filters, etc). In other fields, like PDEs, the source of interpolation points is crucial, giving rise to <a href=\"https://en.wikipedia.org/wiki/Chebyshev_polynomials\">Chebyshev polynomial based methods</a> or other methods that, in general, have a higher concentration of points along the boundary than in the \"bulk\" of the domain.\n",
    "\n",
    ">(Exercise) Chebyshev poynomials (CP) in an interval $[a,b]$ have a curious feature: a CP of order $n-1$ (which is a polynomial of order $n-1$) is the best approximation to polynomials of order $n$ (see chapter 9 of the beautiful, but somewhat outdated, book by Peter Henrici, <a href=\"https://archive.org/details/ElementsOfNumericalAnalysis\">Elements of Numerical Analysis</a> (which is still a great book, but so old that it is now public domain). The interesting thing about the nodes of the CP polynomials is that they accumulate in the boundary, as I mentioned before. CPs have many interesting properties and relations, and are extremely useful in many fields as PDEs, interpolation, ODEs etc, and are the heart of several numerical methods, like <a href=\"https://www.chebfun.org/\"> Chebfun </a>. "
   ]
  }
 ],
 "metadata": {
  "kernelspec": {
   "display_name": "Python 3",
   "language": "python",
   "name": "python3"
  },
  "language_info": {
   "codemirror_mode": {
    "name": "ipython",
    "version": 3
   },
   "file_extension": ".py",
   "mimetype": "text/x-python",
   "name": "python",
   "nbconvert_exporter": "python",
   "pygments_lexer": "ipython3",
   "version": "3.7.0"
  },
  "latex_envs": {
   "LaTeX_envs_menu_present": true,
   "autoclose": false,
   "autocomplete": true,
   "bibliofile": "biblio.bib",
   "cite_by": "apalike",
   "current_citInitial": 1,
   "eqLabelWithNumbers": true,
   "eqNumInitial": 1,
   "hotkeys": {
    "equation": "Ctrl-E",
    "itemize": "Ctrl-I"
   },
   "labels_anchors": false,
   "latex_user_defs": false,
   "report_style_numbering": false,
   "user_envs_cfg": false
  },
  "latex_metadata": {
   "affiliation": "MathAm-Oil, Sendai, Japan",
   "author": "R. Monteiro",
   "title": "CNNs, NNs, and dimensional reduction"
  }
 },
 "nbformat": 4,
 "nbformat_minor": 2
}
